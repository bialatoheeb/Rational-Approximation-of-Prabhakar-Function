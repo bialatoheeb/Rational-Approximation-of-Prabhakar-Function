{
 "cells": [
  {
   "cell_type": "markdown",
   "id": "2b1bd43c",
   "metadata": {},
   "source": [
    "\n",
    "### Created on July, 2023\n",
    "### Authors: T. A. Biala, Y.O. Afolabi and S. O. Ibrahim\n",
    "\n",
    "This function implements a rational approximation to the Prabhakar Function (Three Parameter  Mittag Leffler (ML) function) with 1, 2, or 3 parameters. \n",
    "The function is named RA which stands for rational approximation. See [1] for a full discussion of the approximation.\n",
    "\n",
    "###### Inputs\n",
    "- $z$: the vector (or matrix) whose Prabhakar function we wish to compute\n",
    "- $m$: the number of terms (to use) of the local series expansion of the Prabhakar function\n",
    "- $n$: the number of terms of the asymptotic expansion of the Prabhakar function\n",
    "- $\\alpha$: the alpha parameter in the Prabhakar function\n",
    "- $\\beta$: the beta parameter in the Prabhakar function\n",
    "-  $\\gamma$: the gamma parameter in the Prabhakar function. $r=\\gamma$ throughout the notebook\n",
    "\n",
    "###### Outputs:\n",
    "- Returns a dictionary with 3 items: \n",
    "    - parms: the parameters used in the computation of the approximation, see [1].\n",
    "    - coeffs: the coefficients of the $(\\nu, \\nu)$-rational approximation, where $\\nu = \\dfrac{m+n+r-2}{2}$\n",
    "    - z_RA: the evaluated rational approximation for the elements of $z$\n",
    "\n",
    "\n",
    "RA($z, m, n, \\alpha$) computes the rational approximation with one parameter ($\\alpha$) for $z$; $\\alpha$ must be real and positive. The one parameter ML function is defined as \n",
    "$$ E_{\\alpha}(z) = \\sum_{k=0}^{\\infty} \\dfrac{z^k}{\\Gamma(\\alpha k+1)},$$\n",
    "where $\\Gamma$ is the Euler gamma function.\n",
    "\n",
    "RA($z, m, n, \\alpha, \\beta$) computes the rational approximation with two parameters ($\\alpha, \\beta$) for $z$; $\\alpha$ must be real and positive, $\\beta$ must be a real scalar. The two parameter ML function is defined as \n",
    "$$ E_{\\alpha, \\beta}(z) = \\sum_{k=0}^{\\infty} \\dfrac{z^k}{\\Gamma(\\alpha k+\\beta)}.$$\n",
    "\n",
    "\n",
    "RA($z, m, n, \\alpha, \\beta, \\gamma$) computes the rational approximation with three parameters ($\\alpha, \\beta, \\gamma$) for $z$; $\\alpha$ must be real and positive, $\\beta$ must be a real scalar and $\\gamma$ is a positive integer. The three parameter ML function is defined as \n",
    "$$ E_{\\alpha, \\beta}^\\gamma(z) = \\sum_{k=0}^{\\infty} \\dfrac{\\Gamma(\\gamma + k)z^k}{\\Gamma(k+1)\\Gamma(\\alpha k+\\beta)}.$$\n",
    "\n",
    "\n",
    "\n"
   ]
  },
  {
   "cell_type": "code",
   "execution_count": 1,
   "id": "602a736e",
   "metadata": {},
   "outputs": [],
   "source": [
    "# Importing Libraries\n",
    "import numpy as np\n",
    "import scipy.special as sc\n",
    "import scipy.linalg as sl\n",
    "import numpy.linalg as nl\n",
    "import math\n",
    "import warnings"
   ]
  },
  {
   "cell_type": "markdown",
   "id": "4963f70e",
   "metadata": {},
   "source": [
    "###### Helper Functions"
   ]
  },
  {
   "cell_type": "markdown",
   "id": "3744523a",
   "metadata": {},
   "source": [
    "- Function **b_coeffs** computes the $\\mathbf{b}^r_k$-coefficients, see [1] for details, $$b_{r+j} = \\dfrac{(-1)^{j+1}\\Gamma(\\beta - \\alpha r)\\Gamma(r+j)}{\\Gamma(j+1)\\Gamma(r)\\Gamma(\\alpha j + \\beta)}, ~ j=0, 1, 2, \\cdots$$\n",
    "where $b_j = 0, ~j=0, \\cdots, r-1$.\n",
    "- Function **a_coeffs** computes the $\\mathbf{a}^r_k$-coefficients, see [1] for details, $$a_{r+j} = \\dfrac{(-1)^{j+1}\\Gamma(\\beta - \\alpha r)\\Gamma(r+j)}{\\Gamma(j+1)\\Gamma(r)\\Gamma(\\beta - \\alpha(j+r))}, ~ j=0, 1, 2, \\cdots$$\n",
    "where $a_j = 0, ~j=0, \\cdots, r-1$.\n",
    "- Function **c_coeffs** computes the $\\mathbf{c}^r_k$-coefficients, see [1] for details, $$c_{r+j} = \\dfrac{(-1)^{j}\\Gamma(- \\alpha)\\Gamma(r+j)}{\\Gamma(j+1)\\Gamma(r+1)\\Gamma(- \\alpha(j+r))}, ~ j=0, 1, 2, \\cdots$$\n",
    "where $c_j = 0, ~j=0, \\cdots, r-1$.\n",
    "- Function **w_coeffs** computes the $\\mathbf{w}^r_k$-coefficients, see [1] for details, $$w_{r+j} = \\dfrac{(-1)^{j+1}\\Gamma(- \\alpha)\\Gamma(r+j+1)}{\\Gamma(j+2)\\Gamma(r+1)\\Gamma(- \\alpha(j+1))}, ~ j=0, 1, 2, \\cdots$$\n",
    "where $w_j = 0, ~j=0, \\cdots, r-1$."
   ]
  },
  {
   "cell_type": "code",
   "execution_count": 2,
   "id": "b8b7a387",
   "metadata": {},
   "outputs": [],
   "source": [
    "def b_coeffs(alpha, beta, r, m):\n",
    "    c_coeff = sc.gamma(beta - alpha * r)/sc.gamma(r)\n",
    "    j = np.arange(m)\n",
    "    return  (-1)**(j+1)*sc.gamma(j+r)/(sc.gamma(j+1)*sc.gamma(alpha*j + beta))*c_coeff\n",
    "\n",
    "def a_coeffs(alpha, beta, r, n):\n",
    "    c_coeff = sc.gamma(beta - alpha * r)/sc.gamma(r)\n",
    "    j = np.arange(n)\n",
    "    return  (-1)**(j+1)*sc.gamma(j+r)/(sc.gamma(j+1)*sc.gamma(beta - alpha*(j+r)))*c_coeff\n",
    "\n",
    "def c_coeffs(alpha, r, m):\n",
    "    c_coeff = sc.gamma(-alpha)/sc.gamma(r+1)\n",
    "    j = np.arange(m)\n",
    "    return  (-1)**(j)*sc.gamma(j+r)/(sc.gamma(j+1)*sc.gamma(alpha*(j + r)))*c_coeff\n",
    "\n",
    "def w_coeffs(alpha, r, m):\n",
    "    c_coeff = sc.gamma(-alpha)/sc.gamma(r+1)\n",
    "    j = np.arange(m)\n",
    "    return  (-1)**(j+1)*sc.gamma(j+r+1)/(sc.gamma(j+2)*sc.gamma(-alpha*(j + 1)))*c_coeff"
   ]
  },
  {
   "cell_type": "markdown",
   "id": "e05da227",
   "metadata": {},
   "source": [
    "- Function **top_set** uses two other functions: **top_right** and **top_left**\n",
    "    - **top_left** is an $(m-1, \\nu-r)$ (or $(m-2, \\nu-r-1)$)-rectangular diagonal matrix with entries $1$ for $\\beta \\neq \\alpha\\gamma$  (or $\\beta = \\alpha\\gamma$).\n",
    "    - **top_right** is a \n",
    "        - $(\\nu, \\nu)$ matrix if $\\nu-r-n+1 = 0\\implies \\nu = m-1$,\n",
    "        - $(2\\nu-r-n+1, \\nu)$ matrix if  $\\nu-r-n+1 > 0$ for $\\beta \\neq \\alpha\\gamma$ or $(2\\nu-r-n, \\nu)$ matrix if $\\nu-r-n> 0$ for $\\beta = \\alpha\\gamma$. \n",
    "    - **top_left** and **top_right** are stacked horizontally to obtain **top_set**"
   ]
  },
  {
   "cell_type": "code",
   "execution_count": 3,
   "id": "0e8eaecf",
   "metadata": {},
   "outputs": [],
   "source": [
    "def top_left(num, nu, r, equal):\n",
    "    nur = nu-r if not equal else nu-r-1\n",
    "    return np.eye(num, nur)\n",
    "\n",
    "def top_right(b, nu, n, r, equal):\n",
    "    top =  np.tril(sl.toeplitz(tuple(b[:nu])))\n",
    "    nunr1 = nu-n-r+1 if not equal else nu-n-r\n",
    "    if nunr1 > 0:\n",
    "        ll = [b[i:i+nu][::-1] for i in range(1, nunr1+1)]\n",
    "        top = np.vstack((top, ll))\n",
    "    return top      \n",
    "    \n",
    "def top_set(num, nu, n, r, b, equal):\n",
    "    left = top_left(num, nu, r, equal)\n",
    "    right = top_right(b, nu, n, r, equal)\n",
    "    return np.hstack((left, right))"
   ]
  },
  {
   "cell_type": "markdown",
   "id": "5722ea57",
   "metadata": {},
   "source": [
    "- Function **bottom_set** uses two other functions: **bottom_right** and **bottom_left**\n",
    "    - **bottom_left** is an $(n-1, \\nu-r)$ (or $(n-1, \\nu-r-1)$)-rectangular antidiagonal matrix with entries $1$ for $\\beta \\neq \\alpha\\gamma$  (or $\\beta = \\alpha\\gamma$).\n",
    "    - **bottom_right** is \n",
    "        - $(n-1, n-1)$-lower antitriangular matrix with entries $a_{r+j}, \\tiny{j = 0, \\cdots, n-2}$ if $\\nu-n+1 = 0\\implies \\nu = n-1$,    \n",
    "        - $(n-1, \\nu)$ which consists of $(n-1, n-1)$-lower antitriangular matrix with entries $a_{r+j}, \\tiny{j = 0, \\cdots, n-2}$ horizontally stacked with $(n-1, \\nu-n+1)$-zero matrix if  $\\nu-n+1 > 0$ \n",
    "    - **bottom_left** and **bottom_right** are stacked horizontally to obtain **bottom_set**"
   ]
  },
  {
   "cell_type": "code",
   "execution_count": 4,
   "id": "a1309a8a",
   "metadata": {},
   "outputs": [],
   "source": [
    "def bottom_left(num, nu, n, r, equal):\n",
    "    nur = nu-r if not equal else nu-r-1\n",
    "    return np.eye(num, nur)[:, ::-1]\n",
    "\n",
    "def bottom_right(num, nu, n, r, a, equal):\n",
    "    if equal:\n",
    "        return np.tril(sl.toeplitz(tuple(a[:nu])))[:num, ::-1] \n",
    "    nun1 = nu-n+1\n",
    "    temp = np.tril(sl.toeplitz(tuple(a[:num])))[:, ::-1]\n",
    "    if nun1 > 0:\n",
    "        return np.hstack((np.zeros((num, nun1)), temp))\n",
    "    return temp\n",
    " \n",
    "\n",
    "def bottom_set(num, nu, n, r, a, equal):\n",
    "    left = bottom_left(num, nu, n, r, equal)\n",
    "    right = bottom_right(num, nu, n, r, a, equal)\n",
    "    return np.hstack((left, right))"
   ]
  },
  {
   "cell_type": "markdown",
   "id": "258cea05",
   "metadata": {},
   "source": [
    "- Function **create_matrix** consists of vertically stacked results from **top_set** and **bottom_set**"
   ]
  },
  {
   "cell_type": "code",
   "execution_count": 5,
   "id": "457123b0",
   "metadata": {},
   "outputs": [],
   "source": [
    "def create_matrix(nu, m, n, r, a_coeff, b_coeff, equal=False):   \n",
    "    top_num, bottom_num = m-1 if not equal else m-2, n-1 \n",
    "    top = top_set(top_num, nu, n, r, b_coeff, equal)\n",
    "    bottom = bottom_set(bottom_num, nu, n, r, a_coeff, equal)\n",
    "    return np.vstack((top, bottom))"
   ]
  },
  {
   "cell_type": "markdown",
   "id": "9783ff4c",
   "metadata": {},
   "source": [
    "- Function **create_vector** returns a vector $\\in \\mathbb{R}^{2\\nu-r}$  which consists of \n",
    "    - 0-vector $\\in \\mathbb{R}^{p_1}$, where $p_1=\\nu-r$ for $\\beta\\neq\\alpha\\gamma$ or $p_1=\\nu-r-1$ for $\\beta=\\alpha\\gamma$\n",
    "    - a vector $\\in \\mathbb{R}^{1}$ with entry -$1$\n",
    "    - 0-vector $\\in \\mathbb{R}^{p_2}$, where $p_2=r-1$ for $\\beta\\neq\\alpha\\gamma$ or $p_2=r$ for $\\beta=\\alpha\\gamma$\n",
    "    - a vector $\\in \\mathbb{R}^{p_3}$  , where $p_3=\\nu-r-n+1$ for $\\beta\\neq\\alpha\\gamma$ and $\\nu-r-n+1>0$ with coefficients -$b_{r+j}, \\tiny{j = 0, \\cdots, \\nu-r-n}$ or $p_3=\\nu-r-n$ for $\\beta=\\alpha\\gamma$ and $\\nu-r-n>0$ with coefficients -$c_{r+j}, \\tiny{j = 0, \\cdots, \\nu-r-n}$\n",
    "    - a vector $\\in \\mathbb{R}^{n-1}$  with entries -$a_{r+j}, \\tiny{j = 1, \\cdots, n-1}$ for $\\beta\\neq\\alpha\\gamma$ or -$w_{r+j}, \\tiny{j = 1, \\cdots, n-1}$ for $\\beta=\\alpha\\gamma$"
   ]
  },
  {
   "cell_type": "code",
   "execution_count": 6,
   "id": "496818ef",
   "metadata": {},
   "outputs": [],
   "source": [
    "def create_vector(nu, n, r, a, b, equal=False):\n",
    "    a = list(-a) \n",
    "    b = list(-b)\n",
    "    nunr1 = nu-n-r+1 if not equal else nu-n-r\n",
    "    nur = nu-r if not equal else nu-r-1\n",
    "    r1 = r-1 if not equal else r\n",
    "    temp = [0]*nur + [-1.0] + [0]*r1\n",
    "    if nunr1 > 0:\n",
    "        temp += b[:nunr1]\n",
    "    temp += a[1:n]\n",
    "    return np.array(temp)"
   ]
  },
  {
   "cell_type": "markdown",
   "id": "f3fc1e07",
   "metadata": {},
   "source": [
    "- Function **sol_vars** returns the solution variables as a dictionary with the coefficients $\\{p_{_k}, q_{_k}\\}$ as keys and their corresponding solution values as values\n",
    "- Function **RA_approx** returns a vector of  approximations to the elements of $z$ (flattened if matrix)\n",
    "- Function **RA** returns  a dictionary of a triple consisting of the parameters used in the rational approximation, the coefficients of the rational approximation and a vector or matrix (depending on $z$) of  approximations to the elements of $z$."
   ]
  },
  {
   "cell_type": "code",
   "execution_count": 7,
   "id": "411bb1aa",
   "metadata": {},
   "outputs": [],
   "source": [
    "def sol_vars(sol, nu, m, n, alpha, beta, r, equal):\n",
    "    \n",
    "    coeffs = {'alpha' : alpha,\n",
    "              'beta' : beta,\n",
    "              'nu' : nu,\n",
    "              'm' : m,\n",
    "              'n' : n,\n",
    "              'gamma' : r,\n",
    "              'r' : r}\n",
    "    sol_dict = {}\n",
    "    r1 = r if not equal else r+1\n",
    "    nur = nu-r if not equal else nu-r-1\n",
    "    for i in range(r1):\n",
    "        sol_dict['p' + str(i)] = 0.0\n",
    "    for i in range(nur):\n",
    "        sol_dict['p' + str(r1+i)] = sol[i]\n",
    "    for i in range(nu):\n",
    "        sol_dict['q' + str(i)] = sol[nur+i]\n",
    "    sol_dict['p' + str(nu)] = 1.0\n",
    "    sol_dict['q' + str(nu)] = 1.0\n",
    "    return coeffs, sol_dict\n",
    "\n",
    "def RA_approx(x, sol_dict, alpha, beta, r, equal):\n",
    "    nu = int(len(sol_dict)/2)\n",
    "    num, den = 0, 0\n",
    "    for i in range(nu-1):\n",
    "        num += sol_dict['p' + str(i)]*x**i\n",
    "        den += sol_dict['q' + str(i)]*x**(i)\n",
    "    num += sol_dict['p' + str(nu-1)]*x**(nu-1)\n",
    "    den += sol_dict['q' + str(nu-1)]*x**(nu-1)\n",
    "    den *= (sc.gamma(beta-alpha*r)*x**r if not equal else -sc.gamma(-alpha)/r*x**(1+r))\n",
    "    return num/den\n",
    "\n",
    "def RA(z, m, n, alpha, beta=1, gamma=1):\n",
    "    r = gamma \n",
    "    nu =  math.floor((m + n + r - 2)/2)\n",
    "    assert type(gamma) == int, f'GAMMA = {GAMMA} must be an integer'\n",
    "    assert (m+n+r)%2 == 0, f'm+n+r is not even, i.e, {m}+{n}+{r} = {m+n+r} is odd'\n",
    "    if isinstance(z, (list, tuple, np.ndarray)):\n",
    "        z = np.array(z)\n",
    "    else:\n",
    "        raise Exception('z must be of type list, tuple,  or nd.array')\n",
    "    if (z < 0).any():\n",
    "        z = np.abs(z)\n",
    "        warnings.warn('\\nInput z contains negative values. The absolute values of z will be used instead.')\n",
    "    \n",
    "    # Get the shape of z and flatten for easy computation\n",
    "    z_shape = z.shape\n",
    "    z = z.flatten()\n",
    "    \n",
    "    # Check if there are zero elements in z and compute this value separately\n",
    "    zero_indices = np.where(z==0)[0]\n",
    "    zero_val = 1.0/sc.gamma(beta)\n",
    "    if zero_indices.shape[0] != 0:\n",
    "        z = np.delete(z, zero_indices)\n",
    "        \n",
    "    if beta != alpha*r:\n",
    "        assert m > n+r-2, f'n+r-2={n+r-2} must be less than m={m}'\n",
    "        b_coeff = b_coeffs(alpha, beta, r, m)\n",
    "        a_coeff = a_coeffs(alpha, beta, r, n)\n",
    "        equal = False\n",
    "    else:\n",
    "        assert m > n+r, f'n+r={n+r} must be less than m={m}'\n",
    "        assert alpha != 1.0, f'Gamma(-{alpha}) is undefined, so alpha cannot be {alpha} with beta = alpha * r'\n",
    "        b_coeff = c_coeffs(alpha, r, m)\n",
    "        a_coeff = w_coeffs(alpha, r, max(nu, n))\n",
    "        equal = True\n",
    "        \n",
    "    A = create_matrix(nu, m, n, r, a_coeff, b_coeff, equal=equal)\n",
    "    b = create_vector(nu, n, r, a_coeff, b_coeff, equal=equal)\n",
    "    sol = np.linalg.solve(A, b)\n",
    "  \n",
    "    parms, coeffs = sol_vars(sol, nu, m, n, alpha, beta, r, equal)\n",
    "    sol_vector = RA_approx(z, coeffs, alpha, beta, r, equal)\n",
    "    \n",
    "    # insert the ML value of zero elements using the appropriate indices\n",
    "    for i in zero_indices:\n",
    "        sol_vector = np.insert(sol_vector, i, zero_val)\n",
    "        \n",
    "    # Finally, reshape solution to have same size as input\n",
    "    z_RA = sol_vector.reshape(z_shape)\n",
    "    \n",
    "    return {'parms': parms, 'coeffs': coeffs, 'z_RA': z_RA}\n"
   ]
  },
  {
   "cell_type": "markdown",
   "id": "3ea18c76",
   "metadata": {},
   "source": [
    "#### References\n",
    "1. Y. O. Afolabi, T. A. Biala, I. O. Sarumi and B. A. Wade, `Global-Type Rational Approximations of the Three-Parameter Mittag-Leffler Functions Based on Polynomial Bases Functions` Submitted"
   ]
  },
  {
   "cell_type": "code",
   "execution_count": null,
   "id": "3ca0159b",
   "metadata": {},
   "outputs": [],
   "source": []
  }
 ],
 "metadata": {
  "kernelspec": {
   "display_name": "Python 3 (ipykernel)",
   "language": "python",
   "name": "python3"
  },
  "language_info": {
   "codemirror_mode": {
    "name": "ipython",
    "version": 3
   },
   "file_extension": ".py",
   "mimetype": "text/x-python",
   "name": "python",
   "nbconvert_exporter": "python",
   "pygments_lexer": "ipython3",
   "version": "3.9.7"
  }
 },
 "nbformat": 4,
 "nbformat_minor": 5
}
