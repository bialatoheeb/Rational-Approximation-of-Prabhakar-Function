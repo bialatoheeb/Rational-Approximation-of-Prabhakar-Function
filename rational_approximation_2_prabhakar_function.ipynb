{
 "cells": [
  {
   "cell_type": "markdown",
   "id": "2b1bd43c",
   "metadata": {},
   "source": [
    "\n",
    "### Created on July, 2023\n",
    "### Authors: T. A. Biala, Y.O. Afolabi and S. O. Ibrahim\n",
    "\n",
    "This function implements a rational approximation to the Prabhakar Function (Three Parameter  Mittag Leffler (ML) function) with 1, 2, or 3 parameters. \n",
    "The function is named RA which stands for rational approximation. See [1] for a full discussion of the approximation.\n",
    "\n",
    "###### Inputs\n",
    "- $z$: the vector (or matrix) whose Prabhakar function we wish to compute\n",
    "- $m$: the number of terms (to use) of the local series expansion of the Prabhakar function\n",
    "- $n$: the number of terms of the asymptotic expansion of the Prabhakar function\n",
    "- $\\alpha$: the alpha parameter in the Prabhakar function\n",
    "- $\\beta$: the beta parameter in the Prabhakar function\n",
    "-  $\\gamma$: the gamma parameter in the Prabhakar function. $r=\\gamma$ throughout the notebook\n",
    "\n",
    "###### Outputs:\n",
    "- parms: the parameters used in the computation of the approximations. see [1]\n",
    "- coeff: the coefficients of the $(\\nu, \\nu)$-rational approximation, where $\\nu = \\dfrac{m+n+r-2}{2}$\n",
    "- sol: the evaluated rational approximation for the elements of $z$\n",
    "\n",
    "\n",
    "coeff, sol = RA($z, m, n, \\alpha$) computes the rational approximation with one parameter ($\\alpha$) for $z$; $\\alpha$ must be real and positive. The one parameter ML function is defined as \n",
    "$$ E_{\\alpha}(z) = \\sum_{k=0}^{\\infty} \\dfrac{z^k}{\\Gamma(\\alpha k+1)},$$\n",
    "where $\\Gamma$ is the Euler gamma function.\n",
    "\n",
    "coeff, sol = RA($z, m, n, \\alpha, \\beta$) computes the rational approximation with two parameters ($\\alpha, \\beta$) for $z$; $\\alpha$ must be real and positive, $\\beta$ must be a real scalar. The two parameter ML function is defined as \n",
    "$$ E_{\\alpha, \\beta}(z) = \\sum_{k=0}^{\\infty} \\dfrac{z^k}{\\Gamma(\\alpha k+\\beta)}.$$\n",
    "\n",
    "\n",
    "coeff, sol = RA($z, m, n, \\alpha, \\beta, \\gamma$) computes the rational approximation with three parameters ($\\alpha, \\beta, \\gamma$) for $z$; $\\alpha$ must be real and positive, $\\beta$ must be a real scalar and $\\gamma$ is a positive integer. The three parameter ML function is defined as \n",
    "$$ E_{\\alpha, \\beta}^\\gamma(z) = \\sum_{k=0}^{\\infty} \\dfrac{\\Gamma(\\gamma + k)z^k}{k!\\Gamma(\\alpha k+\\beta)}.$$\n",
    "\n",
    "\n",
    "\n"
   ]
  },
  {
   "cell_type": "code",
   "execution_count": 2,
   "id": "602a736e",
   "metadata": {},
   "outputs": [],
   "source": [
    "# Importing Libraries\n",
    "import numpy as np\n",
    "import scipy.special as sc\n",
    "import scipy.linalg as sl\n",
    "import numpy.linalg as nl\n",
    "import math"
   ]
  },
  {
   "cell_type": "markdown",
   "id": "4963f70e",
   "metadata": {},
   "source": [
    "###### Helper Functions"
   ]
  },
  {
   "cell_type": "markdown",
   "id": "5e150ebf",
   "metadata": {},
   "source": [
    "- Function **c_coeffs** computes the C-coefficient,  see [1] for details,  $$C_{\\alpha, \\beta}^r = \\dfrac{\\Gamma(\\beta - \\alpha r)}{\\Gamma(r)}$$."
   ]
  },
  {
   "cell_type": "code",
   "execution_count": 2,
   "id": "45d66189",
   "metadata": {},
   "outputs": [],
   "source": [
    " def c_coeffs(alpha, beta, r):\n",
    "    return sc.gamma(beta - alpha * r)/sc.gamma(r)"
   ]
  },
  {
   "cell_type": "markdown",
   "id": "3744523a",
   "metadata": {},
   "source": [
    "- Function **b_coeffs** computes the $\\mathbf{b}$-coefficients, see [1] for details, $$b_{r+j} = \\dfrac{(-1)^j\\Gamma(r+j)}{\\Gamma(j+1)\\Gamma(\\alpha j + \\beta)}, ~ j=0, \\cdots, m-2,$$\n",
    "where $b_j = 0, ~j=0, \\cdots, r-1$."
   ]
  },
  {
   "cell_type": "code",
   "execution_count": 3,
   "id": "b8b7a387",
   "metadata": {},
   "outputs": [],
   "source": [
    "def b_coeffs(alpha, beta, r, m):\n",
    "    j = np.arange(m)\n",
    "    return  (-1)**(j)*sc.gamma(j+r)/(sc.gamma(j+1)*sc.gamma(alpha*j + beta))"
   ]
  },
  {
   "cell_type": "markdown",
   "id": "25d9b09c",
   "metadata": {},
   "source": [
    "- Function **a_coeffs** computes the $\\mathbf{a}$-coefficients, see [1] for details, $$a_{r+j} = \\dfrac{(-1)^j\\Gamma(r+j)}{\\Gamma(j+1)\\Gamma(\\beta - \\alpha j)}, ~ j=0, \\cdots, n-1,$$\n",
    "where $a_j = 0, ~j=0, \\cdots, r-1$."
   ]
  },
  {
   "cell_type": "code",
   "execution_count": 4,
   "id": "6c4168a8",
   "metadata": {},
   "outputs": [],
   "source": [
    "def a_coeffs(alpha, beta, r, n):\n",
    "    j = np.arange(n)\n",
    "    return  (-1)**(j)*sc.gamma(j+r)/(sc.gamma(j+1)*sc.gamma(beta - alpha*(j+r)))"
   ]
  },
  {
   "cell_type": "markdown",
   "id": "e05da227",
   "metadata": {},
   "source": [
    "- Function **top_set** uses two other functions: **top_right** and **top_left**\n",
    "    - **top_left** is an $(m-1, \\nu-r)$ rectangular diagonal matrix with entries $\\dfrac{1}{C_{\\alpha, \\beta}^r}$\n",
    "    -$\\textbf{top_right} = \\begin{cases}\n",
    "  (\\nu, \\nu), ~~~~~~~~~~~~~~~~~~~~~~~\\nu-r-n+1 = 0\\implies \\nu = m-1,  \\\\\n",
    "  \\\\\n",
    "  (2\\nu-r-n+1, \\nu), ~~ \\nu-r-n+1 > 0, \n",
    "\\end{cases}~~~~~$ matrix \n",
    "    - **top_left** and **top_right** are stacked horizontally to obtain **top_set**"
   ]
  },
  {
   "cell_type": "code",
   "execution_count": 5,
   "id": "0e8eaecf",
   "metadata": {},
   "outputs": [],
   "source": [
    "def top_left(num, nur, c):\n",
    "    return np.eye(num, nur)/c\n",
    "\n",
    "def top_right(b, nu, n, r):\n",
    "    top =  np.tril(sl.toeplitz(tuple(-b[:nu])))\n",
    "    nunr1 = nu-n-r+1\n",
    "    if nunr1 > 0:\n",
    "        ll = [-b[i:i+nu][::-1] for i in range(1, nunr1+1)]\n",
    "        top = np.vstack((top, ll))\n",
    "    return top      \n",
    "    \n",
    "def top_set(num, nu, n, r, c, b):\n",
    "    nur = nu-r\n",
    "    left = top_left(num, nur, c)\n",
    "    right = top_right(b, nu, n, r)\n",
    "    return np.hstack((left, right))"
   ]
  },
  {
   "cell_type": "markdown",
   "id": "5722ea57",
   "metadata": {},
   "source": [
    "- Function **bottom_set** uses two other functions: **bottom_right** and **bottom_left**\n",
    "    - **bottom_left** is \n",
    "        - $(n-1, n-1)$-antidiagonal matrix with entries $\\dfrac{1}{C_{\\alpha, \\beta}^r}$ if $\\nu-r-n+1 = 0\\implies \\nu-r = n-1$,\n",
    "        - $(n-1, \\nu - r)$ which consists of $(n-1, n-1)$-antidiagonal matrix with entries $\\dfrac{1}{C_{\\alpha, \\beta}^r}$ horizontally stacked with $(n-1, \\nu - r-n+1)$-zero matrix if  $\\nu-r-n+1 > 0$ \n",
    "    - **bottom_right** is \n",
    "        - $(n-1, n-1)$-lower antitriangular matrix with entries $a_{r+j}, \\tiny{j = 0, \\cdots, n-2}$ if $\\nu-r-n+1 = 0\\implies \\nu-r = n-1$,    \n",
    "        - $(n-1, \\nu - r)$ which consists of $(n-1, n-1)$-lower antitriangular matrix with entries $a_{r+j}, \\tiny{j = 0, \\cdots, n-2}$ horizontally stacked with $(n-1, \\nu - r-n+1)$-zero matrix if  $\\nu-r-n+1 > 0$ \n",
    "    - **bottom_left** and **bottom_right** are stacked horizontally to obtain **bottom_set**"
   ]
  },
  {
   "cell_type": "code",
   "execution_count": 6,
   "id": "a1309a8a",
   "metadata": {},
   "outputs": [],
   "source": [
    "def bottom_left(num, nu, n, r, c):\n",
    "    nunr1 = nu-n-r+1\n",
    "    temp = np.rot90(np.eye(num, num))/c\n",
    "    if nunr1 > 0 :\n",
    "        return np.hstack((np.zeros((num, nunr1)), temp))\n",
    "    return temp\n",
    "\n",
    "def bottom_right(num, nu, n, r, a):\n",
    "    nun1 = nu-n+1\n",
    "    temp = np.tril(sl.toeplitz(tuple(-a[:num])))[:, ::-1]\n",
    "    if nun1 > 0:\n",
    "        return np.hstack((np.zeros((num, nun1)), temp))\n",
    "    return temp\n",
    "    \n",
    "def bottom_set(num, nu, n, r, c, a):\n",
    "    left = bottom_left(num, nu, n, r, c)\n",
    "    right = bottom_right(num, nu, n, r, a)\n",
    "    return np.hstack((left, right))"
   ]
  },
  {
   "cell_type": "markdown",
   "id": "258cea05",
   "metadata": {},
   "source": [
    "- Function **create_matrix** consists of vertically stacked results from **top_set** and **bottom_set**"
   ]
  },
  {
   "cell_type": "code",
   "execution_count": 7,
   "id": "457123b0",
   "metadata": {},
   "outputs": [],
   "source": [
    "def create_matrix(nu, m, n, r, a_coeff, b_coeff, c_coeff):   \n",
    "    top_num, bottom_num = m-1, n-1 \n",
    "    top = top_set(top_num, nu, n, r, c_coeff, b_coeff)\n",
    "    bottom = bottom_set(bottom_num, nu, n, r, c_coeff, a_coeff)\n",
    "    return np.vstack((top, bottom))"
   ]
  },
  {
   "cell_type": "markdown",
   "id": "9783ff4c",
   "metadata": {},
   "source": [
    "- Function **create_vector** returns a vector $\\in \\mathbb{R}^{2\\nu-r}$  which consists of \n",
    "    - 0-vector $\\in \\mathbb{R}^{\\nu-r}$\n",
    "    - a vector $\\in \\mathbb{R}^{1}$ with entry $\\dfrac{-1}{C_{\\alpha, \\beta}^r}$\n",
    "    - 0-vector $\\in \\mathbb{R}^{r-1}$\n",
    "    - a vector $\\in \\mathbb{R}^{\\nu-r-n+1}$  with entries $b_{r+j}, \\tiny{j = 0, \\cdots, \\nu-r-n}$, if $\\nu-r-n+1>0$\n",
    "    - a vector $\\in \\mathbb{R}^{n-1}$  with entries $a_{r+j}, \\tiny{j = 1, \\cdots, n-1}$"
   ]
  },
  {
   "cell_type": "code",
   "execution_count": 8,
   "id": "496818ef",
   "metadata": {},
   "outputs": [],
   "source": [
    "def create_vector(nu, n, r, a, b, c):\n",
    "    a = list(a)\n",
    "    b = list(b)\n",
    "    nunr1 = nu-n-r+1\n",
    "    nur = nu-r\n",
    "    r1 = r-1\n",
    "    temp = [0]*nur + [-1.0/c] + [0]*r1 \n",
    "    if nunr1 > 0:\n",
    "        temp += b[:nunr1]\n",
    "    temp += a[1:n]\n",
    "    return np.array(temp)"
   ]
  },
  {
   "cell_type": "markdown",
   "id": "f3fc1e07",
   "metadata": {},
   "source": [
    "- Function **sort** sorts the coefficient $\\{p_{_k}, q_{_k}\\}, ~\\tiny{k=0(1)\\nu}$, see [1] for details, of the rational function.\n",
    "- Function **sol_vars** returns the solution variables as a dictionary with the coefficients $\\{p_{_k}, q_{_k}\\}$ as keys and their corresponding solution values as values\n",
    "- Function **RA_approx** returns a vector or matrix (depending on $z$) of  approximations to the elements of $z$\n",
    "- Function **RA** returns  a triple consisting of the parameters used in the rational approximation, the coefficients of the rational approximation and a vector or matrix (depending on $z$) of  approximations to the elements of $z$."
   ]
  },
  {
   "cell_type": "code",
   "execution_count": 9,
   "id": "411bb1aa",
   "metadata": {},
   "outputs": [],
   "source": [
    "def sort(sol):\n",
    "    sortedPairs = sorted(sol.items(), key=lambda x: (x[0][0], int(x[0][1:])))\n",
    "    return {key:val for key, val in sortedPairs}\n",
    "\n",
    "def sol_vars(sol, nu, m, n, alpha, beta, r):\n",
    "    nur = nu-r\n",
    "    coeffs = {'alpha' : alpha,\n",
    "              'beta' : beta,\n",
    "              'nu' : nu,\n",
    "              'm' : m,\n",
    "              'n' : n,\n",
    "              'gamma' : r,\n",
    "              'r' : r}\n",
    "    sol_dict = {}\n",
    "    for i in range(r):\n",
    "        sol_dict['p' + str(i)] = 0.0\n",
    "    for i in range(nur):\n",
    "        sol_dict['p' + str(r+i)] = sol[i]\n",
    "    for i in range(nu):\n",
    "        sol_dict['q' + str(i)] = sol[nur+i]\n",
    "    sol_dict['p' + str(nu)] = 1.0\n",
    "    sol_dict['q' + str(nu)] = 1.0\n",
    "    return coeffs, sol_dict\n",
    "\n",
    "def RA_approx(x, sol_dict, alpha, beta, r):\n",
    "    nu = int(len(sol_dict)/2)\n",
    "    num, den = 0, 0\n",
    "    for i in range(nu-1):\n",
    "        num += sol_dict['p' + str(i)]*x**i\n",
    "        den += sol_dict['q' + str(i)]*x**(i)\n",
    "    num += sol_dict['p' + str(nu-1)]*x**(nu-1)\n",
    "    den += sol_dict['q' + str(nu-1)]*x**(nu-1)\n",
    "    den *= sc.gamma(beta-alpha*r)*x**r\n",
    "    return num/den\n",
    "\n",
    "def RA(z, m, n, alpha, beta=1, gamma=1):\n",
    "  \n",
    "    r = gamma \n",
    "    nu =  math.floor((m + n + r - 2)/2)\n",
    "    \n",
    "    assert type(gamma) == int, f'GAMMA = {GAMMA} must be an integer'\n",
    "    assert beta != alpha * r, f'BETA = ALPHA * GAMMA, i.e. {beta} = {alpha} * {r}'\n",
    "    assert (m+n+r)%2 == 0, f'm+n+r is not even, i.e, {m}+{n}+{r} = {m+n+r} is odd'\n",
    "    assert nu < m, f'nu={nu} must be less than m={m}'\n",
    "\n",
    "    c_coeff = c_coeffs(alpha, beta, r)\n",
    "    b_coeff = b_coeffs(alpha, beta, r, m)\n",
    "    a_coeff = a_coeffs(alpha, beta, r, n)\n",
    "    \n",
    "    A = create_matrix(nu, m, n, r, a_coeff, b_coeff, c_coeff)\n",
    "    b = create_vector(nu, n, r, a_coeff, b_coeff, c_coeff)\n",
    "    \n",
    "    sol = np.linalg.solve(A, b)\n",
    "  \n",
    "    parms, coeffs = sol_vars(sol, nu, m, n, alpha, beta, r)\n",
    "    sol_vector = RA_approx(z, coeffs, alpha, beta, r)\n",
    "    sort(coeffs)\n",
    "    return parms, coeffs, sol_vector\n"
   ]
  },
  {
   "cell_type": "markdown",
   "id": "3ea18c76",
   "metadata": {},
   "source": [
    "#### References\n",
    "1. Y. O. Afolabi, T. A. Biala, I. O. Sarumi and B. A. Wade, `Global-Type Rational Approximations of the Three-Parameter Mittag-Leffler Functions Based on Polynomial Bases Functions` Submitted"
   ]
  },
  {
   "cell_type": "code",
   "execution_count": null,
   "id": "8ccc2f77",
   "metadata": {},
   "outputs": [],
   "source": []
  }
 ],
 "metadata": {
  "kernelspec": {
   "display_name": "Python 3 (ipykernel)",
   "language": "python",
   "name": "python3"
  },
  "language_info": {
   "codemirror_mode": {
    "name": "ipython",
    "version": 3
   },
   "file_extension": ".py",
   "mimetype": "text/x-python",
   "name": "python",
   "nbconvert_exporter": "python",
   "pygments_lexer": "ipython3",
   "version": "3.9.7"
  }
 },
 "nbformat": 4,
 "nbformat_minor": 5
}
